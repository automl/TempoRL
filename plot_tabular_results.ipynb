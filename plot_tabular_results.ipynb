{
 "cells": [
  {
   "cell_type": "code",
   "execution_count": null,
   "metadata": {},
   "outputs": [],
   "source": [
    "%load_ext autoreload\n",
    "%autoreload 2\n",
    "from utils.data_handling import *\n",
    "from utils.plotting import *"
   ]
  },
  {
   "cell_type": "markdown",
   "metadata": {},
   "source": [
    "<BR><BR><BR><BR><BR><BR><BR><BR><BR><BR>\n",
    "\n",
    "# Cliff"
   ]
  },
  {
   "cell_type": "code",
   "execution_count": null,
   "metadata": {
    "scrolled": false
   },
   "outputs": [],
   "source": [
    "max_skip = 7\n",
    "episodes = 10_000\n",
    "max_steps = 100\n",
    "\n",
    "for exp_version in ['-1.0-linear', '-0.1-const', '-1.0-log']:\n",
    "    print(exp_version[1:].upper())\n",
    "    methods = ['q', 'sq']\n",
    "    rews, lens, steps = load_data(\"experiments/tabular_results/cliff\", methods, exp_version,\n",
    "                           episodes, max_skip, max_steps, local=True)\n",
    "    for m in methods:\n",
    "        print(len(rews[m]))\n",
    "    title = '{:s}'.format(\"Cliff\")\n",
    "    plot(methods, rews, lens, steps, title, episodes, logrewy=False,\n",
    "         logleny=False, logx=True, annotate=True, savefig=\"cliff{:s}.pdf\".format(exp_version.replace('.', '_')),\n",
    "         individual=False)"
   ]
  },
  {
   "cell_type": "markdown",
   "metadata": {},
   "source": [
    "<BR><BR><BR><BR><BR><BR><BR><BR><BR><BR>\n",
    "\n",
    "# Bridge"
   ]
  },
  {
   "cell_type": "code",
   "execution_count": null,
   "metadata": {
    "scrolled": false
   },
   "outputs": [],
   "source": [
    "max_skip = 7\n",
    "episodes = 10_000\n",
    "max_steps = 100\n",
    "\n",
    "for exp_version in ['-1.0-linear', '-0.1-const', '-1.0-log']:\n",
    "    print(exp_version[1:].upper())\n",
    "    methods = ['q', 'sq']\n",
    "    rews, lens, steps = load_data(\"experiments/tabular_results/bridge\", methods, exp_version,\n",
    "                           episodes, max_skip, max_steps, local=True)\n",
    "    for m in methods:\n",
    "        print(len(rews[m]))\n",
    "    title = '{:s}'.format(\"Bridge\")\n",
    "    plot(methods, rews, lens, steps, title, episodes, annotate=True,\n",
    "         logrewy=False, logleny=False, savefig=\"bridge{:s}.pdf\".format(exp_version.replace('.', '_')))"
   ]
  },
  {
   "cell_type": "markdown",
   "metadata": {},
   "source": [
    "<BR><BR><BR><BR><BR><BR><BR><BR><BR><BR>\n",
    "\n",
    "# ZigZag"
   ]
  },
  {
   "cell_type": "code",
   "execution_count": null,
   "metadata": {
    "scrolled": false
   },
   "outputs": [],
   "source": [
    "max_skip = 7\n",
    "episodes = 10_000\n",
    "max_steps = 100\n",
    "\n",
    "for exp_version in ['-1.0-linear', '-0.1-const', '-1.0-log']:\n",
    "    print(exp_version[1:].upper())\n",
    "    methods = ['q', 'sq']\n",
    "    rews, lens, steps = load_data(\"experiments/tabular_results/zigzag\", methods, exp_version,\n",
    "                           episodes, max_skip, max_steps, local=True)\n",
    "    for m in methods:\n",
    "        print(len(rews[m]))\n",
    "    title = '{:s}'.format(\"ZigZag\")\n",
    "    plot(methods, rews, lens, steps, title, episodes, annotate=True,\n",
    "         logrewy=False, logleny=False, savefig=\"zigzag{:s}.pdf\".format(exp_version.replace('.', '_')))"
   ]
  },
  {
   "cell_type": "markdown",
   "metadata": {},
   "source": [
    "<BR><BR><BR><BR><BR><BR><BR><BR><BR><BR>\n",
    "\n",
    "    \n",
    "# Influence of skip-lenth on tempoRL"
   ]
  },
  {
   "cell_type": "markdown",
   "metadata": {},
   "source": [
    "## ZigZag - Linear"
   ]
  },
  {
   "cell_type": "code",
   "execution_count": null,
   "metadata": {
    "scrolled": false
   },
   "outputs": [],
   "source": [
    "max_skip = 2\n",
    "episodes = 10_000\n",
    "max_steps = 100\n",
    "\n",
    "for exp_version in ['-1.0-linear']:\n",
    "    print(exp_version[1:].upper())\n",
    "    for max_skip in range(2, 17):\n",
    "        rews, lens, steps = load_data(\"experiments/tabular_results/j_ablation/zigzag\", ['sq'], exp_version,\n",
    "                               episodes, max_skip, max_steps, local=True)\n",
    "        # the q we compare to is the same as in standard zigzag. max_skip does not influence q\n",
    "        rews_, lens_, steps_ = load_data(\"experiments/tabular_results/zigzag\", ['q'], exp_version,\n",
    "                               episodes, 7, max_steps, local=True)\n",
    "        rews.update(rews_)\n",
    "        lens.update(lens_)\n",
    "        steps.update(steps_)\n",
    "        for m in methods:\n",
    "            print(len(rews[m]))\n",
    "        title = '{:s} - {:d}'.format(\"ZigZag\", max_skip)\n",
    "        plot(['sq', 'q'], rews, lens, steps, title, episodes, annotate=False,\n",
    "             logrewy=False, logleny=False, savefig=None)"
   ]
  },
  {
   "cell_type": "markdown",
   "metadata": {},
   "source": [
    "## ZigZag - Log"
   ]
  },
  {
   "cell_type": "code",
   "execution_count": null,
   "metadata": {
    "scrolled": false
   },
   "outputs": [],
   "source": [
    "max_skip = 2\n",
    "episodes = 10_000\n",
    "max_steps = 100\n",
    "\n",
    "for exp_version in ['-1.0-log']:\n",
    "    print(exp_version[1:].upper())\n",
    "    for max_skip in range(2, 17):\n",
    "        rews, lens, steps = load_data(\"experiments/tabular_results/j_ablation/zigzag\", ['sq'], exp_version,\n",
    "                               episodes, max_skip, max_steps, local=True)\n",
    "        rews_, lens_, steps_ = load_data(\"experiments/tabular_results/zigzag\", ['q'], exp_version,\n",
    "                               episodes, 7, max_steps, local=True)\n",
    "        rews.update(rews_)\n",
    "        lens.update(lens_)\n",
    "        steps.update(steps_)\n",
    "        for m in methods:\n",
    "            print(len(rews[m]))\n",
    "        title = '{:s} - {:d}'.format(\"ZigZag\", max_skip)\n",
    "        plot(['sq', 'q'], rews, lens, steps, title, episodes, annotate=False,\n",
    "             logrewy=False, logleny=False, savefig=None)"
   ]
  },
  {
   "cell_type": "markdown",
   "metadata": {},
   "source": [
    "## ZigZag - Constant"
   ]
  },
  {
   "cell_type": "code",
   "execution_count": null,
   "metadata": {
    "scrolled": false
   },
   "outputs": [],
   "source": [
    "max_skip = 2\n",
    "episodes = 10_000\n",
    "max_steps = 100\n",
    "\n",
    "for exp_version in ['-0.1-const']:\n",
    "    print(exp_version[1:].upper())\n",
    "    for max_skip in range(2, 17):\n",
    "        rews, lens, steps = load_data(\"experiments/tabular_results/j_ablation/zigzag\", ['sq'], exp_version,\n",
    "                               episodes, max_skip, max_steps, local=True)\n",
    "        rews_, lens_, steps_ = load_data(\"experiments/tabular_results/zigzag\", ['q'], exp_version,\n",
    "                               episodes, 7, max_steps, local=True)\n",
    "        rews.update(rews_)\n",
    "        lens.update(lens_)\n",
    "        steps.update(steps_)\n",
    "        for m in methods:\n",
    "            print(len(rews[m]))\n",
    "        title = '{:s} - {:d}'.format(\"ZigZag\", max_skip)\n",
    "        plot(['sq', 'q'], rews, lens, steps, title, episodes, annotate=False,\n",
    "             logrewy=False, logleny=False, savefig=None)"
   ]
  }
 ],
 "metadata": {
  "kernelspec": {
   "display_name": "Python 3",
   "language": "python",
   "name": "python3"
  },
  "language_info": {
   "codemirror_mode": {
    "name": "ipython",
    "version": 3
   },
   "file_extension": ".py",
   "mimetype": "text/x-python",
   "name": "python",
   "nbconvert_exporter": "python",
   "pygments_lexer": "ipython3",
   "version": "3.7.7"
  }
 },
 "nbformat": 4,
 "nbformat_minor": 2
}
